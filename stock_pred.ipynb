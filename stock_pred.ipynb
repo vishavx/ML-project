{
 "cells": [
  {
   "cell_type": "code",
   "execution_count": 1,
   "id": "9c4e8b0f",
   "metadata": {},
   "outputs": [],
   "source": [
    "### Keras and Tensorflow >2.0\n",
    "### Data Collection\n",
    "import pandas_datareader as pdr\n"
   ]
  },
  {
   "cell_type": "code",
   "execution_count": 2,
   "id": "cfb4baab",
   "metadata": {},
   "outputs": [
    {
     "name": "stderr",
     "output_type": "stream",
     "text": [
      "C:\\Users\\Vishav Garg\\anaconda3\\lib\\site-packages\\pandas_datareader\\tiingo.py:234: FutureWarning: In a future version of pandas all arguments of concat except for the argument 'objs' will be keyword-only.\n",
      "  return pd.concat(dfs, self._concat_axis)\n"
     ]
    }
   ],
   "source": [
    "key=\"c8ffbc65562269c35e98f1554729edb5fc5b7f65\"\n",
    "df = pdr.get_data_tiingo('AAPL', api_key=key)\n",
    "df.to_csv('AAPL.csv')"
   ]
  },
  {
   "cell_type": "code",
   "execution_count": 3,
   "id": "0b0bc522",
   "metadata": {},
   "outputs": [
    {
     "data": {
      "text/html": [
       "<div>\n",
       "<style scoped>\n",
       "    .dataframe tbody tr th:only-of-type {\n",
       "        vertical-align: middle;\n",
       "    }\n",
       "\n",
       "    .dataframe tbody tr th {\n",
       "        vertical-align: top;\n",
       "    }\n",
       "\n",
       "    .dataframe thead th {\n",
       "        text-align: right;\n",
       "    }\n",
       "</style>\n",
       "<table border=\"1\" class=\"dataframe\">\n",
       "  <thead>\n",
       "    <tr style=\"text-align: right;\">\n",
       "      <th></th>\n",
       "      <th>symbol</th>\n",
       "      <th>date</th>\n",
       "      <th>close</th>\n",
       "      <th>high</th>\n",
       "      <th>low</th>\n",
       "      <th>open</th>\n",
       "      <th>volume</th>\n",
       "      <th>adjClose</th>\n",
       "      <th>adjHigh</th>\n",
       "      <th>adjLow</th>\n",
       "      <th>adjOpen</th>\n",
       "      <th>adjVolume</th>\n",
       "      <th>divCash</th>\n",
       "      <th>splitFactor</th>\n",
       "    </tr>\n",
       "  </thead>\n",
       "  <tbody>\n",
       "    <tr>\n",
       "      <th>0</th>\n",
       "      <td>AAPL</td>\n",
       "      <td>2018-04-02 00:00:00+00:00</td>\n",
       "      <td>166.68</td>\n",
       "      <td>168.94</td>\n",
       "      <td>164.47</td>\n",
       "      <td>166.64</td>\n",
       "      <td>37586791</td>\n",
       "      <td>39.671106</td>\n",
       "      <td>40.209003</td>\n",
       "      <td>39.145109</td>\n",
       "      <td>39.661585</td>\n",
       "      <td>150347164</td>\n",
       "      <td>0.0</td>\n",
       "      <td>1.0</td>\n",
       "    </tr>\n",
       "    <tr>\n",
       "      <th>1</th>\n",
       "      <td>AAPL</td>\n",
       "      <td>2018-04-03 00:00:00+00:00</td>\n",
       "      <td>168.39</td>\n",
       "      <td>168.75</td>\n",
       "      <td>164.88</td>\n",
       "      <td>167.64</td>\n",
       "      <td>30278046</td>\n",
       "      <td>40.078099</td>\n",
       "      <td>40.163781</td>\n",
       "      <td>39.242692</td>\n",
       "      <td>39.899593</td>\n",
       "      <td>121112184</td>\n",
       "      <td>0.0</td>\n",
       "      <td>1.0</td>\n",
       "    </tr>\n",
       "    <tr>\n",
       "      <th>2</th>\n",
       "      <td>AAPL</td>\n",
       "      <td>2018-04-04 00:00:00+00:00</td>\n",
       "      <td>171.61</td>\n",
       "      <td>172.01</td>\n",
       "      <td>164.77</td>\n",
       "      <td>164.88</td>\n",
       "      <td>34605489</td>\n",
       "      <td>40.844483</td>\n",
       "      <td>40.939686</td>\n",
       "      <td>39.216511</td>\n",
       "      <td>39.242692</td>\n",
       "      <td>138421956</td>\n",
       "      <td>0.0</td>\n",
       "      <td>1.0</td>\n",
       "    </tr>\n",
       "    <tr>\n",
       "      <th>3</th>\n",
       "      <td>AAPL</td>\n",
       "      <td>2018-04-05 00:00:00+00:00</td>\n",
       "      <td>172.80</td>\n",
       "      <td>174.23</td>\n",
       "      <td>172.08</td>\n",
       "      <td>172.58</td>\n",
       "      <td>26933197</td>\n",
       "      <td>41.127712</td>\n",
       "      <td>41.468063</td>\n",
       "      <td>40.956347</td>\n",
       "      <td>41.075350</td>\n",
       "      <td>107732788</td>\n",
       "      <td>0.0</td>\n",
       "      <td>1.0</td>\n",
       "    </tr>\n",
       "    <tr>\n",
       "      <th>4</th>\n",
       "      <td>AAPL</td>\n",
       "      <td>2018-04-06 00:00:00+00:00</td>\n",
       "      <td>168.38</td>\n",
       "      <td>172.48</td>\n",
       "      <td>168.20</td>\n",
       "      <td>170.97</td>\n",
       "      <td>35005290</td>\n",
       "      <td>40.075718</td>\n",
       "      <td>41.051550</td>\n",
       "      <td>40.032877</td>\n",
       "      <td>40.692158</td>\n",
       "      <td>140021160</td>\n",
       "      <td>0.0</td>\n",
       "      <td>1.0</td>\n",
       "    </tr>\n",
       "  </tbody>\n",
       "</table>\n",
       "</div>"
      ],
      "text/plain": [
       "  symbol                       date   close    high     low    open    volume  \\\n",
       "0   AAPL  2018-04-02 00:00:00+00:00  166.68  168.94  164.47  166.64  37586791   \n",
       "1   AAPL  2018-04-03 00:00:00+00:00  168.39  168.75  164.88  167.64  30278046   \n",
       "2   AAPL  2018-04-04 00:00:00+00:00  171.61  172.01  164.77  164.88  34605489   \n",
       "3   AAPL  2018-04-05 00:00:00+00:00  172.80  174.23  172.08  172.58  26933197   \n",
       "4   AAPL  2018-04-06 00:00:00+00:00  168.38  172.48  168.20  170.97  35005290   \n",
       "\n",
       "    adjClose    adjHigh     adjLow    adjOpen  adjVolume  divCash  splitFactor  \n",
       "0  39.671106  40.209003  39.145109  39.661585  150347164      0.0          1.0  \n",
       "1  40.078099  40.163781  39.242692  39.899593  121112184      0.0          1.0  \n",
       "2  40.844483  40.939686  39.216511  39.242692  138421956      0.0          1.0  \n",
       "3  41.127712  41.468063  40.956347  41.075350  107732788      0.0          1.0  \n",
       "4  40.075718  41.051550  40.032877  40.692158  140021160      0.0          1.0  "
      ]
     },
     "execution_count": 3,
     "metadata": {},
     "output_type": "execute_result"
    }
   ],
   "source": [
    "df.to_csv('AAPL.csv')\n",
    "import pandas as pd\n",
    "df=pd.read_csv('AAPL.csv')\n",
    "df.head()"
   ]
  },
  {
   "cell_type": "code",
   "execution_count": 4,
   "id": "74535db4",
   "metadata": {},
   "outputs": [
    {
     "data": {
      "text/plain": [
       "0       166.68\n",
       "1       168.39\n",
       "2       171.61\n",
       "3       172.80\n",
       "4       168.38\n",
       "         ...  \n",
       "1253    158.93\n",
       "1254    160.25\n",
       "1255    158.28\n",
       "1256    157.65\n",
       "1257    160.77\n",
       "Name: close, Length: 1258, dtype: float64"
      ]
     },
     "execution_count": 4,
     "metadata": {},
     "output_type": "execute_result"
    }
   ],
   "source": [
    "df1=df.reset_index()['close']\n",
    "df1"
   ]
  },
  {
   "cell_type": "code",
   "execution_count": 5,
   "id": "4d12e587",
   "metadata": {},
   "outputs": [
    {
     "data": {
      "text/plain": [
       "array([[0.14988103],\n",
       "       [0.15416406],\n",
       "       [0.16222918],\n",
       "       ...,\n",
       "       [0.12884158],\n",
       "       [0.12726362],\n",
       "       [0.13507827]])"
      ]
     },
     "execution_count": 5,
     "metadata": {},
     "output_type": "execute_result"
    }
   ],
   "source": [
    "### LSTM are sensitive to the scale of the data. so we apply MinMax scaler \n",
    "import numpy as np\n",
    "from sklearn.preprocessing import MinMaxScaler\n",
    "scaler=MinMaxScaler(feature_range=(0,1))\n",
    "df1=scaler.fit_transform(np.array(df1).reshape(-1,1))\n",
    "df1"
   ]
  },
  {
   "cell_type": "code",
   "execution_count": 6,
   "id": "1bbd8a12",
   "metadata": {},
   "outputs": [],
   "source": [
    "##splitting dataset into train and test split\n",
    "##timeseries data\n",
    "training_size=int(len(df1)*0.65)\n",
    "test_size=len(df1)-training_size\n",
    "train_data,test_data=df1[0:training_size,:],df1[training_size:len(df1),:1]"
   ]
  },
  {
   "cell_type": "code",
   "execution_count": 7,
   "id": "5a9ad16a",
   "metadata": {},
   "outputs": [],
   "source": [
    "# convert an array of values into a dataset matrix\n",
    "def create_dataset(dataset, time_step=1):\n",
    "    dataX, dataY = [], []\n",
    "    for i in range(len(dataset)-time_step-1):\n",
    "        a = dataset[i:(i+time_step), 0]   ###i=0, 0,1,2,3-----99   100 \n",
    "        dataX.append(a)\n",
    "        dataY.append(dataset[i + time_step, 0])\n",
    "    return np.array(dataX), np.array(dataY)"
   ]
  },
  {
   "cell_type": "code",
   "execution_count": 8,
   "id": "2d2c51ca",
   "metadata": {},
   "outputs": [],
   "source": [
    "time_step = 100\n",
    "X_train, y_train = create_dataset(train_data, time_step)\n",
    "X_test, ytest = create_dataset(test_data, time_step)\n"
   ]
  },
  {
   "cell_type": "code",
   "execution_count": 9,
   "id": "5f680a2b",
   "metadata": {},
   "outputs": [],
   "source": [
    "# reshape input to be [samples, time steps, features] which is required for LSTM\n",
    "X_train =X_train.reshape(X_train.shape[0],X_train.shape[1] , 1)\n",
    "X_test = X_test.reshape(X_test.shape[0],X_test.shape[1] , 1)"
   ]
  },
  {
   "cell_type": "code",
   "execution_count": 11,
   "id": "1bf274ab",
   "metadata": {},
   "outputs": [],
   "source": [
    "### Create the Stacked LSTM model\n",
    "from tensorflow.keras.models import Sequential\n",
    "from tensorflow.keras.layers import Dense\n",
    "from tensorflow.keras.layers import LSTM"
   ]
  },
  {
   "cell_type": "code",
   "execution_count": 12,
   "id": "6dd41cab",
   "metadata": {},
   "outputs": [],
   "source": [
    "model=Sequential()\n",
    "model.add(LSTM(50,return_sequences=True,input_shape=(100,1)))\n",
    "model.add(LSTM(50,return_sequences=True))\n",
    "model.add(LSTM(50))\n",
    "model.add(Dense(1))\n",
    "model.compile(loss='mean_squared_error',optimizer='adam')"
   ]
  },
  {
   "cell_type": "code",
   "execution_count": 13,
   "id": "f26f3cf4",
   "metadata": {},
   "outputs": [
    {
     "name": "stdout",
     "output_type": "stream",
     "text": [
      "Model: \"sequential\"\n",
      "_________________________________________________________________\n",
      " Layer (type)                Output Shape              Param #   \n",
      "=================================================================\n",
      " lstm (LSTM)                 (None, 100, 50)           10400     \n",
      "                                                                 \n",
      " lstm_1 (LSTM)               (None, 100, 50)           20200     \n",
      "                                                                 \n",
      " lstm_2 (LSTM)               (None, 50)                20200     \n",
      "                                                                 \n",
      " dense (Dense)               (None, 1)                 51        \n",
      "                                                                 \n",
      "=================================================================\n",
      "Total params: 50,851\n",
      "Trainable params: 50,851\n",
      "Non-trainable params: 0\n",
      "_________________________________________________________________\n"
     ]
    }
   ],
   "source": [
    "model.summary()"
   ]
  },
  {
   "cell_type": "code",
   "execution_count": 14,
   "id": "58a3462c",
   "metadata": {},
   "outputs": [
    {
     "name": "stdout",
     "output_type": "stream",
     "text": [
      "Epoch 1/100\n",
      "12/12 [==============================] - 17s 563ms/step - loss: 0.0417 - val_loss: 8.9381e-04\n",
      "Epoch 2/100\n",
      "12/12 [==============================] - 4s 349ms/step - loss: 0.0163 - val_loss: 0.0046\n",
      "Epoch 3/100\n",
      "12/12 [==============================] - 4s 344ms/step - loss: 0.0127 - val_loss: 0.0011\n",
      "Epoch 4/100\n",
      "12/12 [==============================] - 4s 345ms/step - loss: 0.0114 - val_loss: 0.0012\n",
      "Epoch 5/100\n",
      "12/12 [==============================] - 4s 339ms/step - loss: 0.0093 - val_loss: 4.9195e-04\n",
      "Epoch 6/100\n",
      "12/12 [==============================] - 4s 346ms/step - loss: 0.0085 - val_loss: 4.4153e-04\n",
      "Epoch 7/100\n",
      "12/12 [==============================] - 4s 346ms/step - loss: 0.0075 - val_loss: 8.2720e-04\n",
      "Epoch 8/100\n",
      "12/12 [==============================] - 4s 343ms/step - loss: 0.0068 - val_loss: 5.1666e-04\n",
      "Epoch 9/100\n",
      "12/12 [==============================] - 4s 343ms/step - loss: 0.0062 - val_loss: 4.6240e-04\n",
      "Epoch 10/100\n",
      "12/12 [==============================] - 4s 342ms/step - loss: 0.0056 - val_loss: 4.9715e-04\n",
      "Epoch 11/100\n",
      "12/12 [==============================] - 4s 336ms/step - loss: 0.0054 - val_loss: 6.7195e-04\n",
      "Epoch 12/100\n",
      "12/12 [==============================] - 4s 336ms/step - loss: 0.0048 - val_loss: 4.3517e-04\n",
      "Epoch 13/100\n",
      "12/12 [==============================] - 4s 337ms/step - loss: 0.0042 - val_loss: 3.8300e-04\n",
      "Epoch 14/100\n",
      "12/12 [==============================] - 4s 336ms/step - loss: 0.0043 - val_loss: 4.9201e-04\n",
      "Epoch 15/100\n",
      "12/12 [==============================] - 4s 336ms/step - loss: 0.0040 - val_loss: 6.1754e-04\n",
      "Epoch 16/100\n",
      "12/12 [==============================] - 4s 332ms/step - loss: 0.0044 - val_loss: 9.6394e-04\n",
      "Epoch 17/100\n",
      "12/12 [==============================] - 4s 339ms/step - loss: 0.0041 - val_loss: 4.5310e-04\n",
      "Epoch 18/100\n",
      "12/12 [==============================] - 4s 338ms/step - loss: 0.0034 - val_loss: 4.9702e-04\n",
      "Epoch 19/100\n",
      "12/12 [==============================] - 4s 335ms/step - loss: 0.0032 - val_loss: 2.9764e-04\n",
      "Epoch 20/100\n",
      "12/12 [==============================] - 4s 340ms/step - loss: 0.0040 - val_loss: 9.4985e-04\n",
      "Epoch 21/100\n",
      "12/12 [==============================] - 4s 342ms/step - loss: 0.0034 - val_loss: 3.7394e-04\n",
      "Epoch 22/100\n",
      "12/12 [==============================] - 4s 340ms/step - loss: 0.0029 - val_loss: 6.8790e-04\n",
      "Epoch 23/100\n",
      "12/12 [==============================] - 4s 340ms/step - loss: 0.0026 - val_loss: 2.8932e-04\n",
      "Epoch 24/100\n",
      "12/12 [==============================] - 4s 340ms/step - loss: 0.0059 - val_loss: 3.9180e-04\n",
      "Epoch 25/100\n",
      "12/12 [==============================] - 4s 336ms/step - loss: 0.0051 - val_loss: 2.9669e-04\n",
      "Epoch 26/100\n",
      "12/12 [==============================] - 4s 332ms/step - loss: 0.0045 - val_loss: 3.4831e-04\n",
      "Epoch 27/100\n",
      "12/12 [==============================] - 4s 331ms/step - loss: 0.0044 - val_loss: 0.0012\n",
      "Epoch 28/100\n",
      "12/12 [==============================] - 4s 340ms/step - loss: 0.0044 - val_loss: 3.4549e-04\n",
      "Epoch 29/100\n",
      "12/12 [==============================] - 4s 338ms/step - loss: 0.0038 - val_loss: 2.9308e-04\n",
      "Epoch 30/100\n",
      "12/12 [==============================] - 4s 342ms/step - loss: 0.0038 - val_loss: 4.1312e-04\n",
      "Epoch 31/100\n",
      "12/12 [==============================] - 4s 342ms/step - loss: 0.0034 - val_loss: 2.9639e-04\n",
      "Epoch 32/100\n",
      "12/12 [==============================] - 4s 339ms/step - loss: 0.0030 - val_loss: 4.2197e-04\n",
      "Epoch 33/100\n",
      "12/12 [==============================] - 4s 338ms/step - loss: 0.0031 - val_loss: 3.5191e-04\n",
      "Epoch 34/100\n",
      "12/12 [==============================] - 4s 338ms/step - loss: 0.0030 - val_loss: 4.5656e-04\n",
      "Epoch 35/100\n",
      "12/12 [==============================] - 4s 338ms/step - loss: 0.0028 - val_loss: 2.9192e-04\n",
      "Epoch 36/100\n",
      "12/12 [==============================] - 4s 335ms/step - loss: 0.0025 - val_loss: 4.8074e-04\n",
      "Epoch 37/100\n",
      "12/12 [==============================] - 4s 338ms/step - loss: 0.0024 - val_loss: 2.7647e-04\n",
      "Epoch 38/100\n",
      "12/12 [==============================] - 4s 334ms/step - loss: 0.0026 - val_loss: 2.6225e-04\n",
      "Epoch 39/100\n",
      "12/12 [==============================] - 4s 337ms/step - loss: 0.0022 - val_loss: 4.9144e-04\n",
      "Epoch 40/100\n",
      "12/12 [==============================] - 4s 339ms/step - loss: 0.0021 - val_loss: 3.2954e-04\n",
      "Epoch 41/100\n",
      "12/12 [==============================] - 4s 334ms/step - loss: 0.0020 - val_loss: 3.2705e-04\n",
      "Epoch 42/100\n",
      "12/12 [==============================] - 4s 336ms/step - loss: 0.0017 - val_loss: 2.7997e-04\n",
      "Epoch 43/100\n",
      "12/12 [==============================] - 4s 335ms/step - loss: 0.0016 - val_loss: 3.1626e-04\n",
      "Epoch 44/100\n",
      "12/12 [==============================] - 4s 336ms/step - loss: 0.0020 - val_loss: 3.3211e-04\n",
      "Epoch 45/100\n",
      "12/12 [==============================] - 4s 337ms/step - loss: 0.0020 - val_loss: 3.4363e-04\n",
      "Epoch 46/100\n",
      "12/12 [==============================] - 4s 337ms/step - loss: 0.0022 - val_loss: 3.2753e-04\n",
      "Epoch 47/100\n",
      "12/12 [==============================] - 4s 335ms/step - loss: 0.0020 - val_loss: 2.7225e-04\n",
      "Epoch 48/100\n",
      "12/12 [==============================] - 4s 336ms/step - loss: 0.0021 - val_loss: 3.2835e-04\n",
      "Epoch 49/100\n",
      "12/12 [==============================] - 4s 335ms/step - loss: 0.0021 - val_loss: 3.1773e-04\n",
      "Epoch 50/100\n",
      "12/12 [==============================] - 4s 337ms/step - loss: 0.0019 - val_loss: 2.8784e-04\n",
      "Epoch 51/100\n",
      "12/12 [==============================] - 4s 340ms/step - loss: 0.0020 - val_loss: 3.0323e-04\n",
      "Epoch 52/100\n",
      "12/12 [==============================] - 4s 334ms/step - loss: 0.0017 - val_loss: 3.2230e-04\n",
      "Epoch 53/100\n",
      "12/12 [==============================] - 4s 336ms/step - loss: 0.0020 - val_loss: 5.2995e-04\n",
      "Epoch 54/100\n",
      "12/12 [==============================] - 4s 334ms/step - loss: 0.0019 - val_loss: 2.9984e-04\n",
      "Epoch 55/100\n",
      "12/12 [==============================] - 4s 329ms/step - loss: 0.0019 - val_loss: 3.0067e-04\n",
      "Epoch 56/100\n",
      "12/12 [==============================] - 4s 332ms/step - loss: 0.0015 - val_loss: 2.8698e-04\n",
      "Epoch 57/100\n",
      "12/12 [==============================] - 4s 335ms/step - loss: 0.0015 - val_loss: 2.7134e-04\n",
      "Epoch 58/100\n",
      "12/12 [==============================] - 4s 334ms/step - loss: 0.0014 - val_loss: 2.9297e-04\n",
      "Epoch 59/100\n",
      "12/12 [==============================] - 4s 337ms/step - loss: 0.0014 - val_loss: 2.8398e-04\n",
      "Epoch 60/100\n",
      "12/12 [==============================] - 4s 337ms/step - loss: 0.0020 - val_loss: 2.9870e-04\n",
      "Epoch 61/100\n",
      "12/12 [==============================] - 4s 332ms/step - loss: 0.0035 - val_loss: 4.2404e-04\n",
      "Epoch 62/100\n",
      "12/12 [==============================] - 4s 338ms/step - loss: 0.0025 - val_loss: 2.9674e-04\n",
      "Epoch 63/100\n",
      "12/12 [==============================] - 4s 342ms/step - loss: 0.0018 - val_loss: 2.5830e-04\n",
      "Epoch 64/100\n",
      "12/12 [==============================] - 4s 339ms/step - loss: 0.0016 - val_loss: 3.0720e-04\n",
      "Epoch 65/100\n",
      "12/12 [==============================] - 4s 338ms/step - loss: 0.0017 - val_loss: 2.6923e-04\n",
      "Epoch 66/100\n",
      "12/12 [==============================] - 4s 338ms/step - loss: 0.0022 - val_loss: 3.6242e-04\n",
      "Epoch 67/100\n",
      "12/12 [==============================] - 4s 337ms/step - loss: 0.0015 - val_loss: 2.8822e-04\n",
      "Epoch 68/100\n",
      "12/12 [==============================] - 4s 334ms/step - loss: 0.0015 - val_loss: 2.6554e-04\n",
      "Epoch 69/100\n",
      "12/12 [==============================] - 4s 337ms/step - loss: 0.0013 - val_loss: 2.7849e-04\n",
      "Epoch 70/100\n",
      "12/12 [==============================] - 4s 337ms/step - loss: 0.0015 - val_loss: 3.0032e-04\n",
      "Epoch 71/100\n",
      "12/12 [==============================] - 4s 343ms/step - loss: 0.0015 - val_loss: 2.6828e-04\n",
      "Epoch 72/100\n",
      "12/12 [==============================] - 4s 337ms/step - loss: 0.0012 - val_loss: 2.6641e-04\n",
      "Epoch 73/100\n",
      "12/12 [==============================] - 4s 336ms/step - loss: 0.0012 - val_loss: 2.9457e-04\n",
      "Epoch 74/100\n",
      "12/12 [==============================] - 4s 335ms/step - loss: 0.0013 - val_loss: 3.1995e-04\n",
      "Epoch 75/100\n",
      "12/12 [==============================] - 3s 293ms/step - loss: 0.0015 - val_loss: 2.6212e-04\n",
      "Epoch 76/100\n",
      "12/12 [==============================] - 4s 338ms/step - loss: 0.0012 - val_loss: 2.7648e-04\n",
      "Epoch 77/100\n",
      "12/12 [==============================] - 4s 340ms/step - loss: 0.0017 - val_loss: 4.5639e-04\n",
      "Epoch 78/100\n"
     ]
    },
    {
     "name": "stdout",
     "output_type": "stream",
     "text": [
      "12/12 [==============================] - 4s 338ms/step - loss: 0.0020 - val_loss: 5.5263e-04\n",
      "Epoch 79/100\n",
      "12/12 [==============================] - 4s 339ms/step - loss: 0.0017 - val_loss: 5.1873e-04\n",
      "Epoch 80/100\n",
      "12/12 [==============================] - 4s 340ms/step - loss: 0.0013 - val_loss: 2.5967e-04\n",
      "Epoch 81/100\n",
      "12/12 [==============================] - 4s 335ms/step - loss: 0.0024 - val_loss: 3.8549e-04\n",
      "Epoch 82/100\n",
      "12/12 [==============================] - 4s 325ms/step - loss: 0.0016 - val_loss: 7.6815e-04\n",
      "Epoch 83/100\n",
      "12/12 [==============================] - 4s 335ms/step - loss: 0.0015 - val_loss: 2.5922e-04\n",
      "Epoch 84/100\n",
      "12/12 [==============================] - 4s 335ms/step - loss: 0.0011 - val_loss: 2.7062e-04\n",
      "Epoch 85/100\n",
      "12/12 [==============================] - 4s 334ms/step - loss: 8.5534e-04 - val_loss: 2.5577e-04\n",
      "Epoch 86/100\n",
      "12/12 [==============================] - 4s 334ms/step - loss: 9.5917e-04 - val_loss: 2.6187e-04\n",
      "Epoch 87/100\n",
      "12/12 [==============================] - 4s 335ms/step - loss: 0.0012 - val_loss: 2.4950e-04\n",
      "Epoch 88/100\n",
      "12/12 [==============================] - 4s 337ms/step - loss: 0.0013 - val_loss: 3.8418e-04\n",
      "Epoch 89/100\n",
      "12/12 [==============================] - 4s 335ms/step - loss: 0.0018 - val_loss: 2.6832e-04\n",
      "Epoch 90/100\n",
      "12/12 [==============================] - 4s 335ms/step - loss: 0.0016 - val_loss: 3.0847e-04\n",
      "Epoch 91/100\n",
      "12/12 [==============================] - 4s 336ms/step - loss: 0.0014 - val_loss: 2.7305e-04\n",
      "Epoch 92/100\n",
      "12/12 [==============================] - 4s 335ms/step - loss: 0.0010 - val_loss: 2.6495e-04\n",
      "Epoch 93/100\n",
      "12/12 [==============================] - 4s 334ms/step - loss: 0.0016 - val_loss: 3.1999e-04\n",
      "Epoch 94/100\n",
      "12/12 [==============================] - 4s 331ms/step - loss: 9.6188e-04 - val_loss: 2.6913e-04\n",
      "Epoch 95/100\n",
      "12/12 [==============================] - 4s 333ms/step - loss: 8.7963e-04 - val_loss: 2.4486e-04\n",
      "Epoch 96/100\n",
      "12/12 [==============================] - 4s 334ms/step - loss: 0.0011 - val_loss: 2.6566e-04\n",
      "Epoch 97/100\n",
      "12/12 [==============================] - 4s 333ms/step - loss: 0.0011 - val_loss: 2.4218e-04\n",
      "Epoch 98/100\n",
      "12/12 [==============================] - 4s 296ms/step - loss: 8.8163e-04 - val_loss: 2.7382e-04\n",
      "Epoch 99/100\n",
      "12/12 [==============================] - 4s 332ms/step - loss: 9.8623e-04 - val_loss: 2.5143e-04\n",
      "Epoch 100/100\n",
      "12/12 [==============================] - 4s 324ms/step - loss: 8.9302e-04 - val_loss: 2.4822e-04\n"
     ]
    },
    {
     "data": {
      "text/plain": [
       "<keras.callbacks.History at 0x1ff545637c0>"
      ]
     },
     "execution_count": 14,
     "metadata": {},
     "output_type": "execute_result"
    }
   ],
   "source": [
    "model.fit(X_train,y_train,validation_data=(X_test,ytest),epochs=100,batch_size=64,verbose=1)"
   ]
  },
  {
   "cell_type": "code",
   "execution_count": 15,
   "id": "2c19f4fb",
   "metadata": {},
   "outputs": [],
   "source": [
    "import tensorflow as tf"
   ]
  },
  {
   "cell_type": "code",
   "execution_count": 16,
   "id": "4e074076",
   "metadata": {},
   "outputs": [
    {
     "name": "stdout",
     "output_type": "stream",
     "text": [
      "23/23 [==============================] - 2s 63ms/step\n",
      "11/11 [==============================] - 1s 63ms/step\n"
     ]
    }
   ],
   "source": [
    "### Lets Do the prediction and check performance metrics\n",
    "train_predict=model.predict(X_train)\n",
    "test_predict=model.predict(X_test)"
   ]
  },
  {
   "cell_type": "code",
   "execution_count": 17,
   "id": "f706ec92",
   "metadata": {},
   "outputs": [],
   "source": [
    "##Transformback to original form\n",
    "train_predict=scaler.inverse_transform(train_predict)\n",
    "test_predict=scaler.inverse_transform(test_predict)"
   ]
  },
  {
   "cell_type": "code",
   "execution_count": 22,
   "id": "e1000063",
   "metadata": {},
   "outputs": [
    {
     "data": {
      "image/png": "[encoded data removed]",
      "text/plain": [
       "<Figure size 432x288 with 1 Axes>"
      ]
     },
     "metadata": {
      "needs_background": "light"
     },
     "output_type": "display_data"
    }
   ],
   "source": [
    "### Plotting \n",
    "import matplotlib.pyplot as plt\n",
    "# shift train predictions for plotting\n",
    "look_back=100\n",
    "trainPredictPlot = np.empty_like(df1)\n",
    "trainPredictPlot[:, :] = np.nan\n",
    "trainPredictPlot[look_back:len(train_predict)+look_back, :] = train_predict\n",
    "# shift test predictions for plotting\n",
    "testPredictPlot = np.empty_like(df1)\n",
    "testPredictPlot[:, :] = np.nan\n",
    "testPredictPlot[len(train_predict)+(look_back*2)+1:len(df1)-1, :] = test_predict\n",
    "# plot baseline and predictions\n",
    "plt.plot(scaler.inverse_transform(df1))\n",
    "plt.plot(trainPredictPlot)\n",
    "plt.plot(testPredictPlot)\n",
    "plt.show()"
   ]
  },
  {
   "cell_type": "code",
   "execution_count": null,
   "id": "7d2d98b2",
   "metadata": {},
   "outputs": [],
   "source": []
  }
 ],
 "metadata": {
  "kernelspec": {
   "display_name": "Python 3 (ipykernel)",
   "language": "python",
   "name": "python3"
  },
  "language_info": {
   "codemirror_mode": {
    "name": "ipython",
    "version": 3
   },
   "file_extension": ".py",
   "mimetype": "text/x-python",
   "name": "python",
   "nbconvert_exporter": "python",
   "pygments_lexer": "ipython3",
   "version": "3.9.12"
  }
 },
 "nbformat": 4,
 "nbformat_minor": 5
}
